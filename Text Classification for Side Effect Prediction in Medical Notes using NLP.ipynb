{
 "cells": [
  {
   "cell_type": "markdown",
   "id": "0d1861aa",
   "metadata": {},
   "source": [
    "Text Classification for Side Effect Prediction in Medical Notes using NLP"
   ]
  },
  {
   "cell_type": "markdown",
   "id": "bbe78a6a",
   "metadata": {},
   "source": [
    "This Natural language algorithm builds a text classification pipeline by extracting data from a word document, including \"Patient_ID,\" \"Medication,\" \"Doctor_Notes,\" and \"Reported_Side_Effects.\" Labels are created based on the side effects, with 'Negative' for any side effect other than \"None\" and 'Positive' for \"None.\" The text is transformed. Then, the dataset is spitted into training and testing sets, with a Logistic Regression model trained using class balancing. The model’s performance is evaluated using metrics like precision, recall, F1-score, and accuracy, along with a confusion matrix."
   ]
  },
  {
   "cell_type": "code",
   "execution_count": 1,
   "id": "fbf6e4d1",
   "metadata": {},
   "outputs": [
    {
     "name": "stdout",
     "output_type": "stream",
     "text": [
      "Defaulting to user installation because normal site-packages is not writeable\n",
      "Requirement already satisfied: python-docx in c:\\users\\joe62\\appdata\\roaming\\python\\python311\\site-packages (1.1.2)\n",
      "Requirement already satisfied: lxml>=3.1.0 in c:\\anaconda3\\lib\\site-packages (from python-docx) (4.9.2)\n",
      "Requirement already satisfied: typing-extensions>=4.9.0 in c:\\users\\joe62\\appdata\\roaming\\python\\python311\\site-packages (from python-docx) (4.12.2)\n"
     ]
    }
   ],
   "source": [
    "# Install library\n",
    "!pip install python-docx"
   ]
  },
  {
   "cell_type": "markdown",
   "id": "04739a5b",
   "metadata": {},
   "source": [
    "Load Libraries"
   ]
  },
  {
   "cell_type": "code",
   "execution_count": 2,
   "id": "b0665331",
   "metadata": {},
   "outputs": [],
   "source": [
    "import os\n",
    "from docx import Document\n",
    "import pandas as pd\n",
    "import pandas as pd\n",
    "import json\n",
    "from sklearn.feature_extraction.text import TfidfVectorizer\n",
    "from sklearn.model_selection import train_test_split\n",
    "from sklearn.linear_model import LogisticRegression\n",
    "from sklearn.metrics import classification_report"
   ]
  },
  {
   "cell_type": "markdown",
   "id": "b63296d6",
   "metadata": {},
   "source": [
    "Change directory to where the word document can be found"
   ]
  },
  {
   "cell_type": "code",
   "execution_count": 3,
   "id": "06c2ef76",
   "metadata": {},
   "outputs": [],
   "source": [
    "os.chdir('C:\\\\Users\\\\joe62\\\\Downloads\\\\NLP')"
   ]
  },
  {
   "cell_type": "markdown",
   "id": "2933f9f1",
   "metadata": {},
   "source": [
    "Load the word document and put in a dataframe"
   ]
  },
  {
   "cell_type": "code",
   "execution_count": 4,
   "id": "53bba6b6",
   "metadata": {},
   "outputs": [
    {
     "name": "stdout",
     "output_type": "stream",
     "text": [
      "Raw paragraph text: '{\"Patient_ID\": 1, \"Medication\": \"Methotrexate\", \"Doctor_Notes\": \"Patient complains of severe nausea and occasional dizziness. No signs of infection.\", \"Reported_Side_Effects\": \"Nausea\"},'\n",
      "--------------------------------------------------\n",
      "Raw paragraph text: '{\"Patient_ID\": 2, \"Medication\": \"Prednisone\", \"Doctor_Notes\": \"Patient reports increased appetite and some trouble sleeping. Mild headaches noted.\", \"Reported_Side_Effects\": \"Increased appetite\"},'\n",
      "--------------------------------------------------\n",
      "Raw paragraph text: '{\"Patient_ID\": 3, \"Medication\": \"Adalimumab\", \"Doctor_Notes\": \"Patient experiencing joint pain relief but reports fatigue and night sweats.\", \"Reported_Side_Effects\": \"Fatigue\"},'\n",
      "--------------------------------------------------\n",
      "Raw paragraph text: '{\"Patient_ID\": 4, \"Medication\": \"Methotrexate\", \"Doctor_Notes\": \"Stopped medication due to severe headaches and vomiting.\", \"Reported_Side_Effects\": \"None\"},'\n",
      "--------------------------------------------------\n",
      "Raw paragraph text: '{\"Patient_ID\": 5, \"Medication\": \"Infliximab\", \"Doctor_Notes\": \"Patient mentions mild nausea after infusion but otherwise tolerates well.\", \"Reported_Side_Effects\": \"None\"},'\n",
      "--------------------------------------------------\n",
      "   Patient_ID    Medication  \\\n",
      "0           1  Methotrexate   \n",
      "1           2    Prednisone   \n",
      "2           3    Adalimumab   \n",
      "3           4  Methotrexate   \n",
      "4           5    Infliximab   \n",
      "\n",
      "                                        Doctor_Notes Reported_Side_Effects  \n",
      "0  Patient complains of severe nausea and occasio...                Nausea  \n",
      "1  Patient reports increased appetite and some tr...    Increased appetite  \n",
      "2  Patient experiencing joint pain relief but rep...               Fatigue  \n",
      "3  Stopped medication due to severe headaches and...                  None  \n",
      "4  Patient mentions mild nausea after infusion bu...                  None  \n"
     ]
    }
   ],
   "source": [
    "# Load the Word document\n",
    "doc = Document(\"NLP for polypharmacy and Patient safety.docx\")\n",
    "\n",
    "# Initialize list to store extracted data\n",
    "data = []\n",
    "\n",
    "# Loop through paragraphs in the document\n",
    "for para in doc.paragraphs:\n",
    "    text = para.text.strip()  # Strip leading and trailing whitespace\n",
    "    if text:  # If there's any text in the paragraph\n",
    "        print(f\"Raw paragraph text: '{text}'\")  # Print raw text for debugging\n",
    "        print(\"-\" * 50)  # Separator for better readability\n",
    "\n",
    "        # Clean the text by removing any trailing commas\n",
    "        if text.endswith(','):\n",
    "            text = text[:-1]  # Remove trailing comma\n",
    "\n",
    "        try:\n",
    "            # Try to load the string as a JSON object\n",
    "            note_data = json.loads(text)\n",
    "            \n",
    "            # Extract patient info from the parsed JSON\n",
    "            patient_id = note_data.get(\"Patient_ID\", \"\")\n",
    "            medication = note_data.get(\"Medication\", \"\")\n",
    "            doctor_notes = note_data.get(\"Doctor_Notes\", \"\")\n",
    "            reported_side_effects = note_data.get(\"Reported_Side_Effects\", \"\")\n",
    "            \n",
    "            # Append to the data list\n",
    "            data.append({\n",
    "                \"Patient_ID\": patient_id,\n",
    "                \"Medication\": medication,\n",
    "                \"Doctor_Notes\": doctor_notes,\n",
    "                \"Reported_Side_Effects\": reported_side_effects\n",
    "            })\n",
    "        except json.JSONDecodeError as e:\n",
    "            print(f\"Error decoding JSON: {e}\")  # Print the specific error message\n",
    "            continue\n",
    "\n",
    "# Convert extracted data to a DataFrame\n",
    "df = pd.DataFrame(data)\n",
    "\n",
    "# Print the DataFrame\n",
    "print(df)"
   ]
  },
  {
   "cell_type": "code",
   "execution_count": 5,
   "id": "c85a852c",
   "metadata": {},
   "outputs": [
    {
     "name": "stdout",
     "output_type": "stream",
     "text": [
      "side_effects_dataset_.csv\n"
     ]
    }
   ],
   "source": [
    "# Save to CSV\n",
    "df.to_csv(\"side_effects_dataset_.csv\", index=False)\n",
    "\n",
    "print(\"side_effects_dataset_.csv\")"
   ]
  },
  {
   "cell_type": "markdown",
   "id": "4474062c",
   "metadata": {},
   "source": [
    "Perform Text Classification using Natural language Processing"
   ]
  },
  {
   "cell_type": "code",
   "execution_count": 6,
   "id": "d4a1fa47",
   "metadata": {},
   "outputs": [],
   "source": [
    "# Convert extracted data to a DataFrame\n",
    "df = pd.DataFrame(data)\n",
    "\n",
    "# Boostrapped\n",
    "df = df.sample(n=300, replace=True, random_state=42)"
   ]
  },
  {
   "cell_type": "code",
   "execution_count": 7,
   "id": "b7d18dae",
   "metadata": {},
   "outputs": [
    {
     "name": "stdout",
     "output_type": "stream",
     "text": [
      "              precision    recall  f1-score   support\n",
      "\n",
      "    Negative       1.00      1.00      1.00        33\n",
      "    Positive       1.00      1.00      1.00        27\n",
      "\n",
      "    accuracy                           1.00        60\n",
      "   macro avg       1.00      1.00      1.00        60\n",
      "weighted avg       1.00      1.00      1.00        60\n",
      "\n"
     ]
    }
   ],
   "source": [
    "# Example: Assume we want to classify Doctor_Notes into categories (e.g., 'Positive', 'Negative', 'Neutral')\n",
    "# This classification could be based on the presence of certain keywords or sentiments in the doctor's notes.\n",
    "\n",
    "# Create a mock 'Label' column (You can replace this with your actual labels)\n",
    "# Here, we assume a simple classification based on side effects\n",
    "df['Label'] = df['Reported_Side_Effects'].apply(lambda x: 'Negative' if x != 'None' else 'Positive')\n",
    "\n",
    "# Prepare features and labels\n",
    "X = df['Doctor_Notes']  # Text data\n",
    "y = df['Label']  # Labels\n",
    "\n",
    "# Split the data into training and testing sets\n",
    "X_train, X_test, y_train, y_test = train_test_split(X, y, test_size=0.2)\n",
    "\n",
    "# Vectorize the text data using TF-IDF\n",
    "vectorizer = TfidfVectorizer(stop_words='english', max_features=5000)\n",
    "X_train_tfidf = vectorizer.fit_transform(X_train)\n",
    "X_test_tfidf = vectorizer.transform(X_test)\n",
    "\n",
    "# Train a classifier (Logistic Regression in this case)\n",
    "classifier = LogisticRegression()\n",
    "classifier.fit(X_train_tfidf, y_train)\n",
    "\n",
    "# Make predictions\n",
    "y_pred = classifier.predict(X_test_tfidf)\n",
    "\n",
    "# Print classification report\n",
    "print(classification_report(y_test, y_pred))\n"
   ]
  }
 ],
 "metadata": {
  "kernelspec": {
   "display_name": "Python 3 (ipykernel)",
   "language": "python",
   "name": "python3"
  },
  "language_info": {
   "codemirror_mode": {
    "name": "ipython",
    "version": 3
   },
   "file_extension": ".py",
   "mimetype": "text/x-python",
   "name": "python",
   "nbconvert_exporter": "python",
   "pygments_lexer": "ipython3",
   "version": "3.11.4"
  }
 },
 "nbformat": 4,
 "nbformat_minor": 5
}
